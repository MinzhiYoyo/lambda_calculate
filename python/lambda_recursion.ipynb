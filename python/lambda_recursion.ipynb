{
 "cells": [
  {
   "cell_type": "markdown",
   "metadata": {},
   "source": [
    "# Y 不动点\n",
    "[不动点算子](https://zh.wikipedia.org/wiki/%E4%B8%8D%E5%8A%A8%E7%82%B9%E7%BB%84%E5%90%88%E5%AD%90)是一个函数，作用是实现递归/循环的功能，并且对于传入的任意函数都有用。\n",
    "\n",
    "下面来推导这个如何来的，使用fibonacci数列作为例子。我们把这个`fibonacci`函数叫做我们的业务函数，它的参数叫做业务参数。"
   ]
  },
  {
   "cell_type": "code",
   "execution_count": null,
   "metadata": {},
   "outputs": [
    {
     "data": {
      "text/plain": [
       "15"
      ]
     },
     "execution_count": 2,
     "metadata": {},
     "output_type": "execute_result"
    }
   ],
   "source": [
    "FIB = lambda x: 1 if x == 1 else x + FIB(x - 1)\n",
    "print(\"FIB(5) = \", FIB(5))"
   ]
  },
  {
   "cell_type": "markdown",
   "metadata": {},
   "source": [
    "`FIB` 本身是一个递归函数，`Python` 等编程语言能够使用有名函数，想实现递归就非常简单了。但是$\\lambda$演算中，没有**函数名**的概念，想要实现递归，就必须对函数匿名化。"
   ]
  },
  {
   "cell_type": "code",
   "execution_count": 5,
   "metadata": {},
   "outputs": [
    {
     "name": "stdout",
     "output_type": "stream",
     "text": [
      "FIB2(FIB2)(5) =  1\n"
     ]
    },
    {
     "ename": "TypeError",
     "evalue": "unsupported operand type(s) for +: 'int' and 'function'",
     "output_type": "error",
     "traceback": [
      "\u001b[31m---------------------------------------------------------------------------\u001b[39m",
      "\u001b[31mTypeError\u001b[39m                                 Traceback (most recent call last)",
      "\u001b[36mCell\u001b[39m\u001b[36m \u001b[39m\u001b[32mIn[5]\u001b[39m\u001b[32m, line 3\u001b[39m\n\u001b[32m      1\u001b[39m FIB2 = \u001b[38;5;28;01mlambda\u001b[39;00m f: \u001b[38;5;28;01mlambda\u001b[39;00m x: \u001b[32m1\u001b[39m \u001b[38;5;28;01mif\u001b[39;00m x == \u001b[32m1\u001b[39m \u001b[38;5;28;01melse\u001b[39;00m x + f(x - \u001b[32m1\u001b[39m)\n\u001b[32m      2\u001b[39m \u001b[38;5;28mprint\u001b[39m(\u001b[33m\"\u001b[39m\u001b[33mFIB2(FIB2)(5) = \u001b[39m\u001b[33m\"\u001b[39m, FIB2(FIB2)(\u001b[32m1\u001b[39m))\n\u001b[32m----> \u001b[39m\u001b[32m3\u001b[39m \u001b[38;5;28mprint\u001b[39m(\u001b[33m\"\u001b[39m\u001b[33mFIB2(FIB2)(5) = \u001b[39m\u001b[33m\"\u001b[39m, \u001b[43mFIB2\u001b[49m\u001b[43m(\u001b[49m\u001b[43mFIB2\u001b[49m\u001b[43m)\u001b[49m\u001b[43m(\u001b[49m\u001b[32;43m5\u001b[39;49m\u001b[43m)\u001b[49m)\n",
      "\u001b[36mCell\u001b[39m\u001b[36m \u001b[39m\u001b[32mIn[5]\u001b[39m\u001b[32m, line 1\u001b[39m, in \u001b[36m<lambda>\u001b[39m\u001b[34m(x)\u001b[39m\n\u001b[32m----> \u001b[39m\u001b[32m1\u001b[39m FIB2 = \u001b[38;5;28;01mlambda\u001b[39;00m f: \u001b[38;5;28;01mlambda\u001b[39;00m x: \u001b[32m1\u001b[39m \u001b[38;5;28;01mif\u001b[39;00m x == \u001b[32m1\u001b[39m \u001b[38;5;28;01melse\u001b[39;00m \u001b[43mx\u001b[49m\u001b[43m \u001b[49m\u001b[43m+\u001b[49m\u001b[43m \u001b[49m\u001b[43mf\u001b[49m\u001b[43m(\u001b[49m\u001b[43mx\u001b[49m\u001b[43m \u001b[49m\u001b[43m-\u001b[49m\u001b[43m \u001b[49m\u001b[32;43m1\u001b[39;49m\u001b[43m)\u001b[49m\n\u001b[32m      2\u001b[39m \u001b[38;5;28mprint\u001b[39m(\u001b[33m\"\u001b[39m\u001b[33mFIB2(FIB2)(5) = \u001b[39m\u001b[33m\"\u001b[39m, FIB2(FIB2)(\u001b[32m1\u001b[39m))\n\u001b[32m      3\u001b[39m \u001b[38;5;28mprint\u001b[39m(\u001b[33m\"\u001b[39m\u001b[33mFIB2(FIB2)(5) = \u001b[39m\u001b[33m\"\u001b[39m, FIB2(FIB2)(\u001b[32m5\u001b[39m))\n",
      "\u001b[31mTypeError\u001b[39m: unsupported operand type(s) for +: 'int' and 'function'"
     ]
    }
   ],
   "source": [
    "FIB2 = lambda f: lambda x: 1 if x == 1 else x + f(x - 1)\n",
    "print(\"FIB2(FIB2)(5) = \", FIB2(FIB2)(1))\n",
    "print(\"FIB2(FIB2)(5) = \", FIB2(FIB2)(5))"
   ]
  },
  {
   "cell_type": "markdown",
   "metadata": {},
   "source": [
    "上面函数会报错，这是当然的，因为 `lambda f: lambda x: 1 if x == 1 else x + f(x - 1)` 本身是不能实现递归的，需要对他进行更改一下。\n",
    "至于为什么不能实现递归，可以简单带入参数尝试一下，简单以`2`为例子"
   ]
  },
  {
   "cell_type": "code",
   "execution_count": null,
   "metadata": {},
   "outputs": [],
   "source": []
  }
 ],
 "metadata": {
  "kernelspec": {
   "display_name": "Python 3",
   "language": "python",
   "name": "python3"
  },
  "language_info": {
   "codemirror_mode": {
    "name": "ipython",
    "version": 3
   },
   "file_extension": ".py",
   "mimetype": "text/x-python",
   "name": "python",
   "nbconvert_exporter": "python",
   "pygments_lexer": "ipython3",
   "version": "3.13.1"
  }
 },
 "nbformat": 4,
 "nbformat_minor": 2
}
